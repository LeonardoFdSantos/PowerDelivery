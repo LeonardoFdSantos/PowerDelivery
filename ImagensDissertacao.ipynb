{
 "cells": [
  {
   "cell_type": "code",
   "execution_count": 1,
   "metadata": {
    "collapsed": true,
    "ExecuteTime": {
     "end_time": "2023-07-26T19:26:32.692596Z",
     "start_time": "2023-07-26T19:26:32.299595300Z"
    }
   },
   "outputs": [],
   "source": [
    "from PIL import Image\n",
    "from PIL import ImageDraw\n",
    "from PIL import ImageFont\n",
    "import pandas as pd\n",
    "import numpy as np"
   ]
  },
  {
   "cell_type": "code",
   "execution_count": 2,
   "outputs": [],
   "source": [
    "Dissertacao_T2F_Franco_Final = pd.read_csv('.\\Data\\Dissertacao_T2F_Franco_fimLinha.csv')\n",
    "Dissertacao_T2F_Franco_Meio = pd.read_csv('.\\Data\\Dissertacao_T2F_Franco_meioLinha.csv')\n",
    "Dissertacao_T2F_40_Final = pd.read_csv('.\\Data\\Dissertacao_T2F_40_fimLinha.csv')\n",
    "Dissertacao_T2F_40_Meio = pd.read_csv('.\\Data\\Dissertacao_T2F_40_meioLinha.csv')\n",
    "Dissertacao_T2F_100_Final = pd.read_csv('.\\Data\\Dissertacao_T2F_100_fimLinha.csv')\n",
    "Dissertacao_T2F_100_Meio = pd.read_csv('.\\Data\\Dissertacao_T2F_100_meioLinha.csv')\n",
    "\n",
    "Dissertacao_Trif_Franco_Final = pd.read_csv('.\\Data\\Dissertacao_Trif_Franco_fimLinha.csv')\n",
    "Dissertacao_Trif_Franco_Meio = pd.read_csv('.\\Data\\Dissertacao_Trif_Franco_meioLinha.csv')\n",
    "Dissertacao_Trif_40_Final = pd.read_csv('.\\Data\\Dissertacao_Trif_40_fimLinha.csv')\n",
    "Dissertacao_Trif_40_Meio = pd.read_csv('.\\Data\\Dissertacao_Trif_40_meioLinha.csv')\n",
    "Dissertacao_Trif_100_Final = pd.read_csv('.\\Data\\Dissertacao_Trif_100_fimLinha.csv')\n",
    "Dissertacao_Trif_100_Meio = pd.read_csv('.\\Data\\Dissertacao_Trif_100_meioLinha.csv')\n",
    "\n",
    "Dissertacao_Trif_Isolador_Franco_Final = pd.read_csv('.\\Data\\Dissertacao_Trif_Isolador_Franco_fimLinha.csv')\n",
    "Dissertacao_Trif_Isolador_Franco_Meio = pd.read_csv('.\\Data\\Dissertacao_Trif_Isolador_Franco_meioLinha.csv')\n",
    "Dissertacao_Trif_Isolador_40_Final = pd.read_csv('.\\Data\\Dissertacao_Trif_Isolador_40_fimLinha.csv')\n",
    "Dissertacao_Trif_Isolador_40_Meio = pd.read_csv('.\\Data\\Dissertacao_Trif_Isolador_40_meioLinha.csv')\n",
    "Dissertacao_Trif_Isolador_100_Final = pd.read_csv('.\\Data\\Dissertacao_Trif_Isolador_100_fimLinha.csv')\n",
    "Dissertacao_Trif_Isolador_100_Meio = pd.read_csv('.\\Data\\Dissertacao_Trif_Isolador_100_meioLinha.csv')"
   ],
   "metadata": {
    "collapsed": false,
    "ExecuteTime": {
     "end_time": "2023-07-26T19:26:32.755594400Z",
     "start_time": "2023-07-26T19:26:32.695596200Z"
    }
   }
  },
  {
   "cell_type": "code",
   "execution_count": 3,
   "outputs": [],
   "source": [
    "TipoCurto = {\n",
    "    1: 'ABC 1',\n",
    "    2: 'ABC 2',\n",
    "    3: 'AC',\n",
    "    4: 'BC',\n",
    "    5: 'AB',\n",
    "    6: 'Sem Curto',\n",
    "}"
   ],
   "metadata": {
    "collapsed": false,
    "ExecuteTime": {
     "end_time": "2023-07-26T19:26:32.770593300Z",
     "start_time": "2023-07-26T19:26:32.756595700Z"
    }
   }
  },
  {
   "cell_type": "code",
   "execution_count": 4,
   "outputs": [],
   "source": [
    "Dissertacao_T2F_Franco_Final = Dissertacao_T2F_Franco_Final.replace({'tipoCurto': TipoCurto})\n",
    "Dissertacao_T2F_Franco_Meio = Dissertacao_T2F_Franco_Meio.replace({'tipoCurto': TipoCurto})\n",
    "Dissertacao_T2F_40_Final = Dissertacao_T2F_40_Final.replace({'tipoCurto': TipoCurto})\n",
    "Dissertacao_T2F_40_Meio = Dissertacao_T2F_40_Meio.replace({'tipoCurto': TipoCurto})\n",
    "Dissertacao_T2F_100_Final = Dissertacao_T2F_100_Final.replace({'tipoCurto': TipoCurto})\n",
    "Dissertacao_T2F_100_Meio = Dissertacao_T2F_100_Meio.replace({'tipoCurto': TipoCurto})\n",
    "\n",
    "Dissertacao_Trif_Franco_Final = Dissertacao_Trif_Franco_Final.replace({'tipoCurto': TipoCurto})\n",
    "Dissertacao_Trif_Franco_Meio = Dissertacao_Trif_Franco_Meio.replace({'tipoCurto': TipoCurto})\n",
    "Dissertacao_Trif_40_Final = Dissertacao_Trif_40_Final.replace({'tipoCurto': TipoCurto})\n",
    "Dissertacao_Trif_40_Meio = Dissertacao_Trif_40_Meio.replace({'tipoCurto': TipoCurto})\n",
    "Dissertacao_Trif_100_Final = Dissertacao_Trif_100_Final.replace({'tipoCurto': TipoCurto})\n",
    "Dissertacao_Trif_100_Meio = Dissertacao_Trif_100_Meio.replace({'tipoCurto': TipoCurto})\n",
    "\n",
    "Dissertacao_Trif_Isolador_Franco_Final = Dissertacao_Trif_Isolador_Franco_Final.replace({'tipoCurto': TipoCurto})\n",
    "Dissertacao_Trif_Isolador_Franco_Meio = Dissertacao_Trif_Isolador_Franco_Meio.replace({'tipoCurto': TipoCurto})\n",
    "Dissertacao_Trif_Isolador_40_Final = Dissertacao_Trif_Isolador_40_Final.replace({'tipoCurto': TipoCurto})\n",
    "Dissertacao_Trif_Isolador_40_Meio = Dissertacao_Trif_Isolador_40_Meio.replace({'tipoCurto': TipoCurto})\n",
    "Dissertacao_Trif_Isolador_100_Final = Dissertacao_Trif_Isolador_100_Final.replace({'tipoCurto': TipoCurto})\n",
    "Dissertacao_Trif_Isolador_100_Meio = Dissertacao_Trif_Isolador_100_Meio.replace({'tipoCurto': TipoCurto})"
   ],
   "metadata": {
    "collapsed": false,
    "ExecuteTime": {
     "end_time": "2023-07-26T19:26:32.801594200Z",
     "start_time": "2023-07-26T19:26:32.773595Z"
    }
   }
  },
  {
   "cell_type": "code",
   "execution_count": 5,
   "outputs": [],
   "source": [
    "#Junta tudo os dados\n",
    "Dissertacao_Franco_Final = pd.merge(Dissertacao_T2F_Franco_Final, Dissertacao_Trif_Franco_Final, how = 'inner', on = 'tipoCurto')\n",
    "Dissertacao_Franco_Final = pd.merge(Dissertacao_Franco_Final, Dissertacao_Trif_Isolador_Franco_Final, how = 'inner', on = 'tipoCurto')\n",
    "\n",
    "Dissertacao_Franco_Meio = pd.merge(Dissertacao_T2F_Franco_Meio, Dissertacao_Trif_Franco_Meio, how = 'inner', on = 'tipoCurto')\n",
    "Dissertacao_Franco_Meio = pd.merge(Dissertacao_Franco_Meio, Dissertacao_Trif_Isolador_Franco_Meio, how = 'inner', on = 'tipoCurto')\n",
    "\n",
    "Dissertacao_40_Final = pd.merge(Dissertacao_T2F_40_Final, Dissertacao_Trif_40_Final,how = 'inner', on = 'tipoCurto')\n",
    "Dissertacao_40_Final = pd.merge(Dissertacao_40_Final, Dissertacao_Trif_Isolador_40_Final,how = 'inner', on = 'tipoCurto')\n",
    "\n",
    "Dissertacao_40_Meio = pd.merge(Dissertacao_T2F_40_Meio, Dissertacao_Trif_40_Meio,how = 'inner', on = 'tipoCurto')\n",
    "Dissertacao_40_Meio = pd.merge(Dissertacao_40_Meio, Dissertacao_Trif_Isolador_40_Meio,how = 'inner', on = 'tipoCurto')\n",
    "\n",
    "Dissertacao_100_Final = pd.merge(Dissertacao_T2F_100_Final, Dissertacao_Trif_100_Final,how = 'inner', on = 'tipoCurto')\n",
    "Dissertacao_100_Final = pd.merge(Dissertacao_100_Final, Dissertacao_Trif_Isolador_100_Final,how = 'inner', on = 'tipoCurto')\n",
    "\n",
    "Dissertacao_100_Meio = pd.merge(Dissertacao_T2F_100_Meio, Dissertacao_Trif_100_Meio,how = 'inner', on = 'tipoCurto')\n",
    "Dissertacao_100_Meio = pd.merge(Dissertacao_100_Meio, Dissertacao_Trif_Isolador_100_Meio,how = 'inner', on = 'tipoCurto')"
   ],
   "metadata": {
    "collapsed": false,
    "ExecuteTime": {
     "end_time": "2023-07-26T19:26:32.834594300Z",
     "start_time": "2023-07-26T19:26:32.804593500Z"
    }
   }
  },
  {
   "cell_type": "code",
   "execution_count": 6,
   "outputs": [
    {
     "data": {
      "text/plain": "      n_x tipoCurto  Ia_Trif_T2F  Ib_Trif_T2F  Ic_Trif_T2F  Vab_Trif_T2F  \\\n0  0.0001     ABC 1    52.753408    31.416041    53.978743    7001.65470   \n1  0.0001     ABC 2    41.130791    46.886197    41.812838    7559.93180   \n2  0.0001        AC    22.183574    22.200467    44.384026   11266.09360   \n3  0.0001        BC    22.205545    44.384024    22.178493    9552.97821   \n4  0.0001        AB    52.753408    26.359253    26.394160    7336.75837   \n\n   Vbc_Trif_T2F  Vca_Trif_T2F     Ia_T2F     Ib_T2F  ...  Ic_Trif_Ent  \\\n0    7849.06310    5255.64830  58.892799  39.264099  ...    45.276086   \n1    7014.43880    7677.20360  39.496899  44.832920  ...    33.802893   \n2    9553.58893    7104.12177  38.428425   0.009660  ...    39.221991   \n3    7104.50490   11266.36980   0.014485  38.438354  ...    19.071220   \n4   11266.23170    7448.29359  45.689228  45.677419  ...    21.807255   \n\n   Vab_Trif_Ent  Vbc_Trif_Ent  Vca_Trif_Ent  Ia_Trif_Saida  Ib_Trif_Saida  \\\n0    6629.88230    6958.75600    5108.59850      47.690883      34.798367   \n1    7097.04430    6083.04750    7719.84840      29.739753      40.892494   \n2   11486.71110    8989.38579    6980.71698      33.583124       1.675295   \n3    8980.66784    6966.43476   11464.75650       1.506492      34.356408   \n4    7420.60773   11460.39160    7513.04142      37.439531      37.175294   \n\n   Ic_Trif_Saida  Vab_Trif_Saida  Vbc_Trif_Saida  Vca_Trif_Saida  \n0      37.489121        0.540285      3748.29510      3748.30100  \n1      40.805654     5873.050400      4064.99720      3004.53850  \n2      34.359672     8637.700800     11678.89760      3396.58651  \n3      33.668485    11644.232300      3395.39993      8597.04260  \n4       1.475390        0.528400     10085.22300     10085.67970  \n\n[5 rows x 34 columns]",
      "text/html": "<div>\n<style scoped>\n    .dataframe tbody tr th:only-of-type {\n        vertical-align: middle;\n    }\n\n    .dataframe tbody tr th {\n        vertical-align: top;\n    }\n\n    .dataframe thead th {\n        text-align: right;\n    }\n</style>\n<table border=\"1\" class=\"dataframe\">\n  <thead>\n    <tr style=\"text-align: right;\">\n      <th></th>\n      <th>n_x</th>\n      <th>tipoCurto</th>\n      <th>Ia_Trif_T2F</th>\n      <th>Ib_Trif_T2F</th>\n      <th>Ic_Trif_T2F</th>\n      <th>Vab_Trif_T2F</th>\n      <th>Vbc_Trif_T2F</th>\n      <th>Vca_Trif_T2F</th>\n      <th>Ia_T2F</th>\n      <th>Ib_T2F</th>\n      <th>...</th>\n      <th>Ic_Trif_Ent</th>\n      <th>Vab_Trif_Ent</th>\n      <th>Vbc_Trif_Ent</th>\n      <th>Vca_Trif_Ent</th>\n      <th>Ia_Trif_Saida</th>\n      <th>Ib_Trif_Saida</th>\n      <th>Ic_Trif_Saida</th>\n      <th>Vab_Trif_Saida</th>\n      <th>Vbc_Trif_Saida</th>\n      <th>Vca_Trif_Saida</th>\n    </tr>\n  </thead>\n  <tbody>\n    <tr>\n      <th>0</th>\n      <td>0.0001</td>\n      <td>ABC 1</td>\n      <td>52.753408</td>\n      <td>31.416041</td>\n      <td>53.978743</td>\n      <td>7001.65470</td>\n      <td>7849.06310</td>\n      <td>5255.64830</td>\n      <td>58.892799</td>\n      <td>39.264099</td>\n      <td>...</td>\n      <td>45.276086</td>\n      <td>6629.88230</td>\n      <td>6958.75600</td>\n      <td>5108.59850</td>\n      <td>47.690883</td>\n      <td>34.798367</td>\n      <td>37.489121</td>\n      <td>0.540285</td>\n      <td>3748.29510</td>\n      <td>3748.30100</td>\n    </tr>\n    <tr>\n      <th>1</th>\n      <td>0.0001</td>\n      <td>ABC 2</td>\n      <td>41.130791</td>\n      <td>46.886197</td>\n      <td>41.812838</td>\n      <td>7559.93180</td>\n      <td>7014.43880</td>\n      <td>7677.20360</td>\n      <td>39.496899</td>\n      <td>44.832920</td>\n      <td>...</td>\n      <td>33.802893</td>\n      <td>7097.04430</td>\n      <td>6083.04750</td>\n      <td>7719.84840</td>\n      <td>29.739753</td>\n      <td>40.892494</td>\n      <td>40.805654</td>\n      <td>5873.050400</td>\n      <td>4064.99720</td>\n      <td>3004.53850</td>\n    </tr>\n    <tr>\n      <th>2</th>\n      <td>0.0001</td>\n      <td>AC</td>\n      <td>22.183574</td>\n      <td>22.200467</td>\n      <td>44.384026</td>\n      <td>11266.09360</td>\n      <td>9553.58893</td>\n      <td>7104.12177</td>\n      <td>38.428425</td>\n      <td>0.009660</td>\n      <td>...</td>\n      <td>39.221991</td>\n      <td>11486.71110</td>\n      <td>8989.38579</td>\n      <td>6980.71698</td>\n      <td>33.583124</td>\n      <td>1.675295</td>\n      <td>34.359672</td>\n      <td>8637.700800</td>\n      <td>11678.89760</td>\n      <td>3396.58651</td>\n    </tr>\n    <tr>\n      <th>3</th>\n      <td>0.0001</td>\n      <td>BC</td>\n      <td>22.205545</td>\n      <td>44.384024</td>\n      <td>22.178493</td>\n      <td>9552.97821</td>\n      <td>7104.50490</td>\n      <td>11266.36980</td>\n      <td>0.014485</td>\n      <td>38.438354</td>\n      <td>...</td>\n      <td>19.071220</td>\n      <td>8980.66784</td>\n      <td>6966.43476</td>\n      <td>11464.75650</td>\n      <td>1.506492</td>\n      <td>34.356408</td>\n      <td>33.668485</td>\n      <td>11644.232300</td>\n      <td>3395.39993</td>\n      <td>8597.04260</td>\n    </tr>\n    <tr>\n      <th>4</th>\n      <td>0.0001</td>\n      <td>AB</td>\n      <td>52.753408</td>\n      <td>26.359253</td>\n      <td>26.394160</td>\n      <td>7336.75837</td>\n      <td>11266.23170</td>\n      <td>7448.29359</td>\n      <td>45.689228</td>\n      <td>45.677419</td>\n      <td>...</td>\n      <td>21.807255</td>\n      <td>7420.60773</td>\n      <td>11460.39160</td>\n      <td>7513.04142</td>\n      <td>37.439531</td>\n      <td>37.175294</td>\n      <td>1.475390</td>\n      <td>0.528400</td>\n      <td>10085.22300</td>\n      <td>10085.67970</td>\n    </tr>\n  </tbody>\n</table>\n<p>5 rows × 34 columns</p>\n</div>"
     },
     "execution_count": 6,
     "metadata": {},
     "output_type": "execute_result"
    }
   ],
   "source": [
    "Dissertacao_100_Meio"
   ],
   "metadata": {
    "collapsed": false,
    "ExecuteTime": {
     "end_time": "2023-07-26T19:26:32.875595800Z",
     "start_time": "2023-07-26T19:26:32.833594500Z"
    }
   }
  },
  {
   "cell_type": "code",
   "execution_count": 7,
   "outputs": [],
   "source": [
    "with pd.ExcelWriter('.\\Data\\Analises.xlsx', engine='xlsxwriter') as writer:\n",
    "    Dissertacao_T2F_Franco_Final.to_excel(writer, sheet_name='Fim de Linha - T2F - Franco', index=False)\n",
    "    Dissertacao_T2F_Franco_Meio.to_excel(writer, sheet_name='Inicio de Linha - T2F - Franco', index=False)\n",
    "    Dissertacao_T2F_40_Final.to_excel(writer, sheet_name='Fim de Linha - T2F - 40', index=False)\n",
    "    Dissertacao_T2F_40_Meio.to_excel(writer, sheet_name='Inicio de Linha - T2F - 40', index=False)\n",
    "    Dissertacao_T2F_100_Final.to_excel(writer, sheet_name='Fim de Linha - T2F - 100', index=False)\n",
    "    Dissertacao_T2F_100_Meio.to_excel(writer, sheet_name='Inicio de Linha - T2F - 100', index=False)\n",
    "    Dissertacao_Trif_Franco_Final.to_excel(writer, sheet_name='Fim de Linha - Trif - Franco', index=False)\n",
    "    Dissertacao_Trif_Franco_Meio.to_excel(writer, sheet_name='Inicio de Linha - Trif - Franco', index=False)\n",
    "    Dissertacao_Trif_40_Final.to_excel(writer, sheet_name='Fim de Linha - Trif - 40', index=False)\n",
    "    Dissertacao_Trif_40_Meio.to_excel(writer, sheet_name='Inicio de Linha - Trif - 40', index=False)\n",
    "    Dissertacao_Trif_100_Final.to_excel(writer, sheet_name='Fim de Linha - Trif - 100', index=False)\n",
    "    Dissertacao_Trif_100_Meio.to_excel(writer, sheet_name='Inicio de Linha - Trif - 100', index=False)\n",
    "    Dissertacao_Trif_Isolador_Franco_Final.to_excel(writer, sheet_name='Fim - Trif Isol - Franco', index=False)\n",
    "    Dissertacao_Trif_Isolador_Franco_Meio.to_excel(writer, sheet_name='Inicio - Trif Isol - Franco', index=False)\n",
    "    Dissertacao_Trif_Isolador_40_Final.to_excel(writer, sheet_name='Fim - Trif Isol - 40', index=False)\n",
    "    Dissertacao_Trif_Isolador_40_Meio.to_excel(writer, sheet_name='Inicio - Trif Isol - 40', index=False)\n",
    "    Dissertacao_Trif_Isolador_100_Final.to_excel(writer, sheet_name='Fim - Trif Isol - 100', index=False)\n",
    "    Dissertacao_Trif_Isolador_100_Meio.to_excel(writer, sheet_name='Inicio - Trif Isol - 100', index=False)\n",
    "    Dissertacao_Franco_Final.to_excel(writer, sheet_name='Fim - Todos - Franco', index=False)\n",
    "    Dissertacao_Franco_Meio.to_excel(writer, sheet_name='Inicio - Todos - Franco', index=False)\n",
    "    Dissertacao_40_Final.to_excel(writer, sheet_name='Fim - Todos - 40', index=False)\n",
    "    Dissertacao_40_Meio.to_excel(writer, sheet_name='Inicio - Todos - 40', index=False)\n",
    "    Dissertacao_100_Final.to_excel(writer, sheet_name='Fim - Todos - 100', index=False)\n",
    "    Dissertacao_100_Meio.to_excel(writer, sheet_name='Inicio - Todos - 100', index=False)"
   ],
   "metadata": {
    "collapsed": false,
    "ExecuteTime": {
     "end_time": "2023-07-26T19:26:33.007593400Z",
     "start_time": "2023-07-26T19:26:32.867594600Z"
    }
   }
  },
  {
   "cell_type": "code",
   "execution_count": 8,
   "outputs": [
    {
     "data": {
      "text/plain": "  tipoCurto  Ia_Trif_T2F  Ib_Trif_T2F  Ic_Trif_T2F  Vab_Trif_T2F  \\\n0     ABC 1    40.071556    31.783047    39.481929    7712.27350   \n1     ABC 2    30.676278    39.084182    32.504878    8600.31050   \n2        AC    17.870670    17.888079    35.758730   11266.15790   \n3        BC    17.890494    35.758733    17.868257    9961.79009   \n4        AB    40.071556    20.022713    20.048856    7601.32567   \n\n   Vbc_Trif_T2F  Vca_Trif_T2F     Ia_T2F     Ib_T2F     Ic_T2F  ...  \\\n0     8339.1928    7390.35710  42.099760  34.982646  34.304925  ...   \n1     7764.6628    8680.64160  28.670630  35.957645  37.529988  ...   \n2     9962.0815    7898.80008  30.956793   0.010881  30.964918  ...   \n3     7898.9575   11266.30540   0.013091  30.966314  30.955402  ...   \n4    11266.2316    9220.04919  34.702317  34.691651   0.011956  ...   \n\n   Ic_Trif_Ent  Vab_Trif_Ent  Vbc_Trif_Ent  Vca_Trif_Ent  Ia_Trif_Saida  \\\n0    32.343535    7717.92430    8419.60790    7427.14110      34.679706   \n1    26.430155    8662.37780    7852.78040    8748.13900      23.546746   \n2    28.912057   11486.67350   10115.31780    8001.83246      24.504401   \n3    13.857045   10132.47090    7949.92295   11464.51500       1.501478   \n4    17.249717    7611.25428   11458.55800    9290.23925      29.093321   \n\n   Ib_Trif_Saida  Ic_Trif_Saida  Vab_Trif_Saida  Vbc_Trif_Saida  \\\n0      28.642835      27.858062      4143.59990      5807.81250   \n1      29.555481      30.489160      7476.09370      6260.39330   \n2       1.675108      25.577514      8609.57501     12209.24140   \n3      25.835391      24.888467     12225.48970      6025.22948   \n4      28.372857       1.465059      4076.44332      8860.26315   \n\n   Vca_Trif_Saida  \n0      6109.41130  \n1      5658.17740  \n2      5992.47559  \n3      8509.27925  \n4     11537.30300  \n\n[5 rows x 31 columns]",
      "text/html": "<div>\n<style scoped>\n    .dataframe tbody tr th:only-of-type {\n        vertical-align: middle;\n    }\n\n    .dataframe tbody tr th {\n        vertical-align: top;\n    }\n\n    .dataframe thead th {\n        text-align: right;\n    }\n</style>\n<table border=\"1\" class=\"dataframe\">\n  <thead>\n    <tr style=\"text-align: right;\">\n      <th></th>\n      <th>tipoCurto</th>\n      <th>Ia_Trif_T2F</th>\n      <th>Ib_Trif_T2F</th>\n      <th>Ic_Trif_T2F</th>\n      <th>Vab_Trif_T2F</th>\n      <th>Vbc_Trif_T2F</th>\n      <th>Vca_Trif_T2F</th>\n      <th>Ia_T2F</th>\n      <th>Ib_T2F</th>\n      <th>Ic_T2F</th>\n      <th>...</th>\n      <th>Ic_Trif_Ent</th>\n      <th>Vab_Trif_Ent</th>\n      <th>Vbc_Trif_Ent</th>\n      <th>Vca_Trif_Ent</th>\n      <th>Ia_Trif_Saida</th>\n      <th>Ib_Trif_Saida</th>\n      <th>Ic_Trif_Saida</th>\n      <th>Vab_Trif_Saida</th>\n      <th>Vbc_Trif_Saida</th>\n      <th>Vca_Trif_Saida</th>\n    </tr>\n  </thead>\n  <tbody>\n    <tr>\n      <th>0</th>\n      <td>ABC 1</td>\n      <td>40.071556</td>\n      <td>31.783047</td>\n      <td>39.481929</td>\n      <td>7712.27350</td>\n      <td>8339.1928</td>\n      <td>7390.35710</td>\n      <td>42.099760</td>\n      <td>34.982646</td>\n      <td>34.304925</td>\n      <td>...</td>\n      <td>32.343535</td>\n      <td>7717.92430</td>\n      <td>8419.60790</td>\n      <td>7427.14110</td>\n      <td>34.679706</td>\n      <td>28.642835</td>\n      <td>27.858062</td>\n      <td>4143.59990</td>\n      <td>5807.81250</td>\n      <td>6109.41130</td>\n    </tr>\n    <tr>\n      <th>1</th>\n      <td>ABC 2</td>\n      <td>30.676278</td>\n      <td>39.084182</td>\n      <td>32.504878</td>\n      <td>8600.31050</td>\n      <td>7764.6628</td>\n      <td>8680.64160</td>\n      <td>28.670630</td>\n      <td>35.957645</td>\n      <td>37.529988</td>\n      <td>...</td>\n      <td>26.430155</td>\n      <td>8662.37780</td>\n      <td>7852.78040</td>\n      <td>8748.13900</td>\n      <td>23.546746</td>\n      <td>29.555481</td>\n      <td>30.489160</td>\n      <td>7476.09370</td>\n      <td>6260.39330</td>\n      <td>5658.17740</td>\n    </tr>\n    <tr>\n      <th>2</th>\n      <td>AC</td>\n      <td>17.870670</td>\n      <td>17.888079</td>\n      <td>35.758730</td>\n      <td>11266.15790</td>\n      <td>9962.0815</td>\n      <td>7898.80008</td>\n      <td>30.956793</td>\n      <td>0.010881</td>\n      <td>30.964918</td>\n      <td>...</td>\n      <td>28.912057</td>\n      <td>11486.67350</td>\n      <td>10115.31780</td>\n      <td>8001.83246</td>\n      <td>24.504401</td>\n      <td>1.675108</td>\n      <td>25.577514</td>\n      <td>8609.57501</td>\n      <td>12209.24140</td>\n      <td>5992.47559</td>\n    </tr>\n    <tr>\n      <th>3</th>\n      <td>BC</td>\n      <td>17.890494</td>\n      <td>35.758733</td>\n      <td>17.868257</td>\n      <td>9961.79009</td>\n      <td>7898.9575</td>\n      <td>11266.30540</td>\n      <td>0.013091</td>\n      <td>30.966314</td>\n      <td>30.955402</td>\n      <td>...</td>\n      <td>13.857045</td>\n      <td>10132.47090</td>\n      <td>7949.92295</td>\n      <td>11464.51500</td>\n      <td>1.501478</td>\n      <td>25.835391</td>\n      <td>24.888467</td>\n      <td>12225.48970</td>\n      <td>6025.22948</td>\n      <td>8509.27925</td>\n    </tr>\n    <tr>\n      <th>4</th>\n      <td>AB</td>\n      <td>40.071556</td>\n      <td>20.022713</td>\n      <td>20.048856</td>\n      <td>7601.32567</td>\n      <td>11266.2316</td>\n      <td>9220.04919</td>\n      <td>34.702317</td>\n      <td>34.691651</td>\n      <td>0.011956</td>\n      <td>...</td>\n      <td>17.249717</td>\n      <td>7611.25428</td>\n      <td>11458.55800</td>\n      <td>9290.23925</td>\n      <td>29.093321</td>\n      <td>28.372857</td>\n      <td>1.465059</td>\n      <td>4076.44332</td>\n      <td>8860.26315</td>\n      <td>11537.30300</td>\n    </tr>\n  </tbody>\n</table>\n<p>5 rows × 31 columns</p>\n</div>"
     },
     "execution_count": 8,
     "metadata": {},
     "output_type": "execute_result"
    }
   ],
   "source": [
    "Dissertacao_100_Final"
   ],
   "metadata": {
    "collapsed": false,
    "ExecuteTime": {
     "end_time": "2023-07-26T19:26:33.093594200Z",
     "start_time": "2023-07-26T19:26:33.003594500Z"
    }
   }
  },
  {
   "cell_type": "code",
   "execution_count": 9,
   "outputs": [],
   "source": [
    "for i in Dissertacao_100_Final.itertuples():\n",
    "    nome = str(i.tipoCurto)\n",
    "    imagem = Image.open('CurtosValoresF2_TrifasicoIsolador.png')\n",
    "    draw = ImageDraw.Draw(imagem)\n",
    "    fonte = ImageFont.truetype('arial.ttf', 100)\n",
    "    fonteTitulo = ImageFont.truetype('arial.ttf', 216)\n",
    "    #imprime NOME DA FIGURA\n",
    "    if nome == 'ABC 1':\n",
    "        NovoNome = 'Curto-circuito Trifásico ABC - Caso 1'\n",
    "    elif nome == 'ABC 2':\n",
    "        NovoNome = 'Curto-circuito Trifásico ABC - Caso 2'\n",
    "    elif nome == 'AC':\n",
    "        NovoNome = 'Curto-circuito Bifásico AC'\n",
    "    elif nome == 'BC':\n",
    "        NovoNome = 'Curto-circuito Bifásico BC'\n",
    "    elif nome == 'AB':\n",
    "        NovoNome = 'Curto-circuito Bifásico AB'\n",
    "    else:\n",
    "        NovoNome = 'NovoNome'\n",
    "    draw.text((1900,50), NovoNome, font=fonteTitulo, fill=(0,0,0,255))\n",
    "    #imprime Trifasico Real\n",
    "    draw.text((2800,400), 'Vab = '+str(round(i.Vab_Trif, 3)), font=fonte, fill=(0,0,0,255))\n",
    "    draw.text((2800,510), 'Vbc = '+str(round(i.Vbc_Trif, 3)), font=fonte, fill=(0,0,0,255))\n",
    "    draw.text((2800,620), 'Vca = '+str(round(i.Vca_Trif, 3)), font=fonte, fill=(0,0,0,255))\n",
    "    draw.text((2800,1400), 'Ia = '+str(round(i.Ia_Trif, 3)), font=fonte, fill=(0,0,0,255))\n",
    "    draw.text((2800,1510), 'Ib = '+str(round(i.Ib_Trif, 3)), font=fonte, fill=(0,0,0,255))\n",
    "    draw.text((2800,1620), 'Ic = '+str(round(i.Ic_Trif, 3)), font=fonte, fill=(0,0,0,255))\n",
    "    #imprime T2F\n",
    "    draw.text((2800,2700), 'Vab = '+str(round(i.Vab_T2F, 3)), font=fonte, fill=(0,0,0,255))\n",
    "    draw.text((2800,2810), 'Vbc = '+str(round(i.Vbc_T2F, 3)), font=fonte, fill=(0,0,0,255))\n",
    "    draw.text((2800,2920), 'Vca = '+str(round(i.Vca_T2F, 3)), font=fonte, fill=(0,0,0,255))\n",
    "    draw.text((2800,3700), 'Ia = '+str(round(i.Ia_T2F, 3)), font=fonte, fill=(0,0,0,255))\n",
    "    draw.text((2800,3810), 'Ib = '+str(round(i.Ib_T2F, 3)), font=fonte, fill=(0,0,0,255))\n",
    "    draw.text((2800,3920), 'Ic = '+str(round(i.Ic_T2F, 3)), font=fonte, fill=(0,0,0,255))\n",
    "\n",
    "    draw.text((1400,2700), 'Vab = '+str(round(i.Vab_Trif_T2F, 3)), font=fonte, fill=(0,0,0,255))\n",
    "    draw.text((1400,2810), 'Vbc = '+str(round(i.Vbc_Trif_T2F, 3)), font=fonte, fill=(0,0,0,255))\n",
    "    draw.text((1400,2920), 'Vca = '+str(round(i.Vca_Trif_T2F, 3)), font=fonte, fill=(0,0,0,255))\n",
    "    draw.text((1400,3700), 'Ia = '+str(round(i.Ia_Trif_T2F, 3)), font=fonte, fill=(0,0,0,255))\n",
    "    draw.text((1400,3810), 'Ib = '+str(round(i.Ib_Trif_T2F, 3)), font=fonte, fill=(0,0,0,255))\n",
    "    draw.text((1400,3920), 'Ic = '+str(round(i.Ic_Trif_T2F, 3)), font=fonte, fill=(0,0,0,255))\n",
    "    #imprime Trifásico Isolador\n",
    "    draw.text((2800,5050), 'Vab = '+str(round(i.Vab_Trif_Saida, 3)), font=fonte, fill=(0,0,0,255))\n",
    "    draw.text((2800,5160), 'Vbc = '+str(round(i.Vbc_Trif_Saida, 3)), font=fonte, fill=(0,0,0,255))\n",
    "    draw.text((2800,5270), 'Vca = '+str(round(i.Vca_Trif_Saida, 3)), font=fonte, fill=(0,0,0,255))\n",
    "    draw.text((2800,6000), 'Ia = '+str(round(i.Ia_Trif_Saida, 3)), font=fonte, fill=(0,0,0,255))\n",
    "    draw.text((2800,6110), 'Ib = '+str(round(i.Ib_Trif_Saida, 3)), font=fonte, fill=(0,0,0,255))\n",
    "    draw.text((2800,6220), 'Ic = '+str(round(i.Ic_Trif_Saida, 3)), font=fonte, fill=(0,0,0,255))\n",
    "\n",
    "    draw.text((1400,5050), 'Vab = '+str(round(i.Vab_Trif_Ent, 3)), font=fonte, fill=(0,0,0,255))\n",
    "    draw.text((1400,5160), 'Vbc = '+str(round(i.Vbc_Trif_Ent, 3)), font=fonte, fill=(0,0,0,255))\n",
    "    draw.text((1400,5270), 'Vca = '+str(round(i.Vca_Trif_Ent, 3)), font=fonte, fill=(0,0,0,255))\n",
    "    draw.text((1400,6000), 'Ia = '+str(round(i.Ia_Trif_Ent, 3)), font=fonte, fill=(0,0,0,255))\n",
    "    draw.text((1400,6110), 'Ib = '+str(round(i.Ib_Trif_Ent, 3)), font=fonte, fill=(0,0,0,255))\n",
    "    draw.text((1400,6220), 'Ic = '+str(round(i.Ic_Trif_Ent, 3)), font=fonte, fill=(0,0,0,255))\n",
    "    imagem.save(f\".\\Data\\Medida_100_\"+nome+\"_F2.png\")"
   ],
   "metadata": {
    "collapsed": false,
    "ExecuteTime": {
     "end_time": "2023-07-26T19:26:43.875881100Z",
     "start_time": "2023-07-26T19:26:33.044597Z"
    }
   }
  },
  {
   "cell_type": "code",
   "execution_count": 10,
   "outputs": [],
   "source": [
    "for i in Dissertacao_100_Meio.itertuples():\n",
    "    nome = str(i.tipoCurto)\n",
    "    imagem = Image.open('CurtosValoresF1_TrifasicoIsolador.png')\n",
    "    draw = ImageDraw.Draw(imagem)\n",
    "    fonte = ImageFont.truetype('arial.ttf', 100)\n",
    "    fonteTitulo = ImageFont.truetype('arial.ttf', 216)\n",
    "    #imprime NOME DA FIGURA\n",
    "    if nome == 'ABC 1':\n",
    "        NovoNome = 'Curto-circuito Trifásico ABC - Caso 1'\n",
    "    elif nome == 'ABC 2':\n",
    "        NovoNome = 'Curto-circuito Trifásico ABC - Caso 2'\n",
    "    elif nome == 'AC':\n",
    "        NovoNome = 'Curto-circuito Bifásico AC'\n",
    "    elif nome == 'BC':\n",
    "        NovoNome = 'Curto-circuito Bifásico BC'\n",
    "    elif nome == 'AB':\n",
    "        NovoNome = 'Curto-circuito Bifásico AB'\n",
    "    else:\n",
    "        NovoNome = 'NovoNome'\n",
    "    draw.text((1900,50), NovoNome, font=fonteTitulo, fill=(0,0,0,255))\n",
    "    #imprime Trifasico Real\n",
    "    draw.text((2400,400), 'Vab = '+str(round(i.Vab_Trif, 3)), font=fonte, fill=(0,0,0,255))\n",
    "    draw.text((2400,510), 'Vbc = '+str(round(i.Vbc_Trif, 3)), font=fonte, fill=(0,0,0,255))\n",
    "    draw.text((2400,620), 'Vca = '+str(round(i.Vca_Trif, 3)), font=fonte, fill=(0,0,0,255))\n",
    "    draw.text((2400,1400), 'Ia = '+str(round(i.Ia_Trif, 3)), font=fonte, fill=(0,0,0,255))\n",
    "    draw.text((2400,1510), 'Ib = '+str(round(i.Ib_Trif, 3)), font=fonte, fill=(0,0,0,255))\n",
    "    draw.text((2400,1620), 'Ic = '+str(round(i.Ic_Trif, 3)), font=fonte, fill=(0,0,0,255))\n",
    "    #imprime T2F\n",
    "    draw.text((2400,2700), 'Vab = '+str(round(i.Vab_T2F, 3)), font=fonte, fill=(0,0,0,255))\n",
    "    draw.text((2400,2810), 'Vbc = '+str(round(i.Vbc_T2F, 3)), font=fonte, fill=(0,0,0,255))\n",
    "    draw.text((2400,2920), 'Vca = '+str(round(i.Vca_T2F, 3)), font=fonte, fill=(0,0,0,255))\n",
    "    draw.text((2400,3700), 'Ia = '+str(round(i.Ia_T2F, 3)), font=fonte, fill=(0,0,0,255))\n",
    "    draw.text((2400,3810), 'Ib = '+str(round(i.Ib_T2F, 3)), font=fonte, fill=(0,0,0,255))\n",
    "    draw.text((2400,3920), 'Ic = '+str(round(i.Ic_T2F, 3)), font=fonte, fill=(0,0,0,255))\n",
    "\n",
    "    draw.text((1400,2700), 'Vab = '+str(round(i.Vab_Trif_T2F, 3)), font=fonte, fill=(0,0,0,255))\n",
    "    draw.text((1400,2810), 'Vbc = '+str(round(i.Vbc_Trif_T2F, 3)), font=fonte, fill=(0,0,0,255))\n",
    "    draw.text((1400,2920), 'Vca = '+str(round(i.Vca_Trif_T2F, 3)), font=fonte, fill=(0,0,0,255))\n",
    "    draw.text((1400,3700), 'Ia = '+str(round(i.Ia_Trif_T2F, 3)), font=fonte, fill=(0,0,0,255))\n",
    "    draw.text((1400,3810), 'Ib = '+str(round(i.Ib_Trif_T2F, 3)), font=fonte, fill=(0,0,0,255))\n",
    "    draw.text((1400,3920), 'Ic = '+str(round(i.Ic_Trif_T2F, 3)), font=fonte, fill=(0,0,0,255))\n",
    "    #imprime Trifásico Isolador\n",
    "    draw.text((2400,5050), 'Vab = '+str(round(i.Vab_Trif_Saida, 3)), font=fonte, fill=(0,0,0,255))\n",
    "    draw.text((2400,5160), 'Vbc = '+str(round(i.Vbc_Trif_Saida, 3)), font=fonte, fill=(0,0,0,255))\n",
    "    draw.text((2400,5270), 'Vca = '+str(round(i.Vca_Trif_Saida, 3)), font=fonte, fill=(0,0,0,255))\n",
    "    draw.text((2400,6000), 'Ia = '+str(round(i.Ia_Trif_Saida, 3)), font=fonte, fill=(0,0,0,255))\n",
    "    draw.text((2400,6110), 'Ib = '+str(round(i.Ib_Trif_Saida, 3)), font=fonte, fill=(0,0,0,255))\n",
    "    draw.text((2400,6220), 'Ic = '+str(round(i.Ic_Trif_Saida, 3)), font=fonte, fill=(0,0,0,255))\n",
    "\n",
    "    draw.text((1400,5050), 'Vab = '+str(round(i.Vab_Trif_Ent, 3)), font=fonte, fill=(0,0,0,255))\n",
    "    draw.text((1400,5160), 'Vbc = '+str(round(i.Vbc_Trif_Ent, 3)), font=fonte, fill=(0,0,0,255))\n",
    "    draw.text((1400,5270), 'Vca = '+str(round(i.Vca_Trif_Ent, 3)), font=fonte, fill=(0,0,0,255))\n",
    "    draw.text((1400,6000), 'Ia = '+str(round(i.Ia_Trif_Ent, 3)), font=fonte, fill=(0,0,0,255))\n",
    "    draw.text((1400,6110), 'Ib = '+str(round(i.Ib_Trif_Ent, 3)), font=fonte, fill=(0,0,0,255))\n",
    "    draw.text((1400,6220), 'Ic = '+str(round(i.Ic_Trif_Ent, 3)), font=fonte, fill=(0,0,0,255))\n",
    "    imagem.save(f\".\\Data\\Medida_100_\"+nome+\"_F1.png\")"
   ],
   "metadata": {
    "collapsed": false,
    "ExecuteTime": {
     "end_time": "2023-07-26T19:26:53.594307600Z",
     "start_time": "2023-07-26T19:26:43.876880700Z"
    }
   }
  },
  {
   "cell_type": "code",
   "execution_count": 11,
   "outputs": [],
   "source": [
    "for i in Dissertacao_40_Final.itertuples():\n",
    "    nome = str(i.tipoCurto)\n",
    "    imagem = Image.open('CurtosValoresF2_TrifasicoIsolador.png')\n",
    "    draw = ImageDraw.Draw(imagem)\n",
    "    fonte = ImageFont.truetype('arial.ttf', 100)\n",
    "    fonteTitulo = ImageFont.truetype('arial.ttf', 216)\n",
    "    #imprime NOME DA FIGURA\n",
    "    if nome == 'ABC 1':\n",
    "        NovoNome = 'Curto-circuito Trifásico ABC - Caso 1'\n",
    "    elif nome == 'ABC 2':\n",
    "        NovoNome = 'Curto-circuito Trifásico ABC - Caso 2'\n",
    "    elif nome == 'AC':\n",
    "        NovoNome = 'Curto-circuito Bifásico AC'\n",
    "    elif nome == 'BC':\n",
    "        NovoNome = 'Curto-circuito Bifásico BC'\n",
    "    elif nome == 'AB':\n",
    "        NovoNome = 'Curto-circuito Bifásico AB'\n",
    "    else:\n",
    "        NovoNome = 'NovoNome'\n",
    "    draw.text((1900,50), NovoNome, font=fonteTitulo, fill=(0,0,0,255))\n",
    "    #imprime Trifasico Real\n",
    "    draw.text((2800,400), 'Vab = '+str(round(i.Vab_Trif, 3)), font=fonte, fill=(0,0,0,255))\n",
    "    draw.text((2800,510), 'Vbc = '+str(round(i.Vbc_Trif, 3)), font=fonte, fill=(0,0,0,255))\n",
    "    draw.text((2800,620), 'Vca = '+str(round(i.Vca_Trif, 3)), font=fonte, fill=(0,0,0,255))\n",
    "    draw.text((2800,1400), 'Ia = '+str(round(i.Ia_Trif, 3)), font=fonte, fill=(0,0,0,255))\n",
    "    draw.text((2800,1510), 'Ib = '+str(round(i.Ib_Trif, 3)), font=fonte, fill=(0,0,0,255))\n",
    "    draw.text((2800,1620), 'Ic = '+str(round(i.Ic_Trif, 3)), font=fonte, fill=(0,0,0,255))\n",
    "    #imprime T2F\n",
    "    draw.text((2800,2700), 'Vab = '+str(round(i.Vab_T2F, 3)), font=fonte, fill=(0,0,0,255))\n",
    "    draw.text((2800,2810), 'Vbc = '+str(round(i.Vbc_T2F, 3)), font=fonte, fill=(0,0,0,255))\n",
    "    draw.text((2800,2920), 'Vca = '+str(round(i.Vca_T2F, 3)), font=fonte, fill=(0,0,0,255))\n",
    "    draw.text((2800,3700), 'Ia = '+str(round(i.Ia_T2F, 3)), font=fonte, fill=(0,0,0,255))\n",
    "    draw.text((2800,3810), 'Ib = '+str(round(i.Ib_T2F, 3)), font=fonte, fill=(0,0,0,255))\n",
    "    draw.text((2800,3920), 'Ic = '+str(round(i.Ic_T2F, 3)), font=fonte, fill=(0,0,0,255))\n",
    "\n",
    "    draw.text((1400,2700), 'Vab = '+str(round(i.Vab_Trif_T2F, 3)), font=fonte, fill=(0,0,0,255))\n",
    "    draw.text((1400,2810), 'Vbc = '+str(round(i.Vbc_Trif_T2F, 3)), font=fonte, fill=(0,0,0,255))\n",
    "    draw.text((1400,2920), 'Vca = '+str(round(i.Vca_Trif_T2F, 3)), font=fonte, fill=(0,0,0,255))\n",
    "    draw.text((1400,3700), 'Ia = '+str(round(i.Ia_Trif_T2F, 3)), font=fonte, fill=(0,0,0,255))\n",
    "    draw.text((1400,3810), 'Ib = '+str(round(i.Ib_Trif_T2F, 3)), font=fonte, fill=(0,0,0,255))\n",
    "    draw.text((1400,3920), 'Ic = '+str(round(i.Ic_Trif_T2F, 3)), font=fonte, fill=(0,0,0,255))\n",
    "    #imprime Trifásico Isolador\n",
    "    draw.text((2800,5050), 'Vab = '+str(round(i.Vab_Trif_Saida, 3)), font=fonte, fill=(0,0,0,255))\n",
    "    draw.text((2800,5160), 'Vbc = '+str(round(i.Vbc_Trif_Saida, 3)), font=fonte, fill=(0,0,0,255))\n",
    "    draw.text((2800,5270), 'Vca = '+str(round(i.Vca_Trif_Saida, 3)), font=fonte, fill=(0,0,0,255))\n",
    "    draw.text((2800,6000), 'Ia = '+str(round(i.Ia_Trif_Saida, 3)), font=fonte, fill=(0,0,0,255))\n",
    "    draw.text((2800,6110), 'Ib = '+str(round(i.Ib_Trif_Saida, 3)), font=fonte, fill=(0,0,0,255))\n",
    "    draw.text((2800,6220), 'Ic = '+str(round(i.Ic_Trif_Saida, 3)), font=fonte, fill=(0,0,0,255))\n",
    "\n",
    "    draw.text((1400,5050), 'Vab = '+str(round(i.Vab_Trif_Ent, 3)), font=fonte, fill=(0,0,0,255))\n",
    "    draw.text((1400,5160), 'Vbc = '+str(round(i.Vbc_Trif_Ent, 3)), font=fonte, fill=(0,0,0,255))\n",
    "    draw.text((1400,5270), 'Vca = '+str(round(i.Vca_Trif_Ent, 3)), font=fonte, fill=(0,0,0,255))\n",
    "    draw.text((1400,6000), 'Ia = '+str(round(i.Ia_Trif_Ent, 3)), font=fonte, fill=(0,0,0,255))\n",
    "    draw.text((1400,6110), 'Ib = '+str(round(i.Ib_Trif_Ent, 3)), font=fonte, fill=(0,0,0,255))\n",
    "    draw.text((1400,6220), 'Ic = '+str(round(i.Ic_Trif_Ent, 3)), font=fonte, fill=(0,0,0,255))\n",
    "    imagem.save(f\".\\Data\\Medida_40_\"+nome+\"_F2.png\")"
   ],
   "metadata": {
    "collapsed": false,
    "ExecuteTime": {
     "end_time": "2023-07-26T19:27:04.098698900Z",
     "start_time": "2023-07-26T19:26:53.635307Z"
    }
   }
  },
  {
   "cell_type": "code",
   "execution_count": 12,
   "outputs": [],
   "source": [
    "for i in Dissertacao_40_Meio.itertuples():\n",
    "    nome = str(i.tipoCurto)\n",
    "    imagem = Image.open('CurtosValoresF1_TrifasicoIsolador.png')\n",
    "    draw = ImageDraw.Draw(imagem)\n",
    "    fonte = ImageFont.truetype('arial.ttf', 100)\n",
    "    fonteTitulo = ImageFont.truetype('arial.ttf', 216)\n",
    "    #imprime NOME DA FIGURA\n",
    "    if nome == 'ABC 1':\n",
    "        NovoNome = 'Curto-circuito Trifásico ABC - Caso 1'\n",
    "    elif nome == 'ABC 2':\n",
    "        NovoNome = 'Curto-circuito Trifásico ABC - Caso 2'\n",
    "    elif nome == 'AC':\n",
    "        NovoNome = 'Curto-circuito Bifásico AC'\n",
    "    elif nome == 'BC':\n",
    "        NovoNome = 'Curto-circuito Bifásico BC'\n",
    "    elif nome == 'AB':\n",
    "        NovoNome = 'Curto-circuito Bifásico AB'\n",
    "    else:\n",
    "        NovoNome = 'NovoNome'\n",
    "    draw.text((1900,50), NovoNome, font=fonteTitulo, fill=(0,0,0,255))\n",
    "    #imprime Trifasico Real\n",
    "    draw.text((2400,400), 'Vab = '+str(round(i.Vab_Trif, 3)), font=fonte, fill=(0,0,0,255))\n",
    "    draw.text((2400,510), 'Vbc = '+str(round(i.Vbc_Trif, 3)), font=fonte, fill=(0,0,0,255))\n",
    "    draw.text((2400,620), 'Vca = '+str(round(i.Vca_Trif, 3)), font=fonte, fill=(0,0,0,255))\n",
    "    draw.text((2400,1400), 'Ia = '+str(round(i.Ia_Trif, 3)), font=fonte, fill=(0,0,0,255))\n",
    "    draw.text((2400,1510), 'Ib = '+str(round(i.Ib_Trif, 3)), font=fonte, fill=(0,0,0,255))\n",
    "    draw.text((2400,1620), 'Ic = '+str(round(i.Ic_Trif, 3)), font=fonte, fill=(0,0,0,255))\n",
    "    #imprime T2F\n",
    "    draw.text((2400,2700), 'Vab = '+str(round(i.Vab_T2F, 3)), font=fonte, fill=(0,0,0,255))\n",
    "    draw.text((2400,2810), 'Vbc = '+str(round(i.Vbc_T2F, 3)), font=fonte, fill=(0,0,0,255))\n",
    "    draw.text((2400,2920), 'Vca = '+str(round(i.Vca_T2F, 3)), font=fonte, fill=(0,0,0,255))\n",
    "    draw.text((2400,3700), 'Ia = '+str(round(i.Ia_T2F, 3)), font=fonte, fill=(0,0,0,255))\n",
    "    draw.text((2400,3810), 'Ib = '+str(round(i.Ib_T2F, 3)), font=fonte, fill=(0,0,0,255))\n",
    "    draw.text((2400,3920), 'Ic = '+str(round(i.Ic_T2F, 3)), font=fonte, fill=(0,0,0,255))\n",
    "\n",
    "    draw.text((1400,2700), 'Vab = '+str(round(i.Vab_Trif_T2F, 3)), font=fonte, fill=(0,0,0,255))\n",
    "    draw.text((1400,2810), 'Vbc = '+str(round(i.Vbc_Trif_T2F, 3)), font=fonte, fill=(0,0,0,255))\n",
    "    draw.text((1400,2920), 'Vca = '+str(round(i.Vca_Trif_T2F, 3)), font=fonte, fill=(0,0,0,255))\n",
    "    draw.text((1400,3700), 'Ia = '+str(round(i.Ia_Trif_T2F, 3)), font=fonte, fill=(0,0,0,255))\n",
    "    draw.text((1400,3810), 'Ib = '+str(round(i.Ib_Trif_T2F, 3)), font=fonte, fill=(0,0,0,255))\n",
    "    draw.text((1400,3920), 'Ic = '+str(round(i.Ic_Trif_T2F, 3)), font=fonte, fill=(0,0,0,255))\n",
    "    #imprime Trifásico Isolador\n",
    "    draw.text((2400,5050), 'Vab = '+str(round(i.Vab_Trif_Saida, 3)), font=fonte, fill=(0,0,0,255))\n",
    "    draw.text((2400,5160), 'Vbc = '+str(round(i.Vbc_Trif_Saida, 3)), font=fonte, fill=(0,0,0,255))\n",
    "    draw.text((2400,5270), 'Vca = '+str(round(i.Vca_Trif_Saida, 3)), font=fonte, fill=(0,0,0,255))\n",
    "    draw.text((2400,6000), 'Ia = '+str(round(i.Ia_Trif_Saida, 3)), font=fonte, fill=(0,0,0,255))\n",
    "    draw.text((2400,6110), 'Ib = '+str(round(i.Ib_Trif_Saida, 3)), font=fonte, fill=(0,0,0,255))\n",
    "    draw.text((2400,6220), 'Ic = '+str(round(i.Ic_Trif_Saida, 3)), font=fonte, fill=(0,0,0,255))\n",
    "\n",
    "    draw.text((1400,5050), 'Vab = '+str(round(i.Vab_Trif_Ent, 3)), font=fonte, fill=(0,0,0,255))\n",
    "    draw.text((1400,5160), 'Vbc = '+str(round(i.Vbc_Trif_Ent, 3)), font=fonte, fill=(0,0,0,255))\n",
    "    draw.text((1400,5270), 'Vca = '+str(round(i.Vca_Trif_Ent, 3)), font=fonte, fill=(0,0,0,255))\n",
    "    draw.text((1400,6000), 'Ia = '+str(round(i.Ia_Trif_Ent, 3)), font=fonte, fill=(0,0,0,255))\n",
    "    draw.text((1400,6110), 'Ib = '+str(round(i.Ib_Trif_Ent, 3)), font=fonte, fill=(0,0,0,255))\n",
    "    draw.text((1400,6220), 'Ic = '+str(round(i.Ic_Trif_Ent, 3)), font=fonte, fill=(0,0,0,255))\n",
    "    imagem.save(f\".\\Data\\Medida_40_\"+nome+\"_F1.png\")"
   ],
   "metadata": {
    "collapsed": false,
    "ExecuteTime": {
     "end_time": "2023-07-26T19:27:13.745611900Z",
     "start_time": "2023-07-26T19:27:04.098698900Z"
    }
   }
  },
  {
   "cell_type": "code",
   "execution_count": 13,
   "outputs": [],
   "source": [
    "for i in Dissertacao_Franco_Final.itertuples():\n",
    "    nome = str(i.tipoCurto)\n",
    "    imagem = Image.open('CurtosValoresF2_TrifasicoIsolador.png')\n",
    "    draw = ImageDraw.Draw(imagem)\n",
    "    fonte = ImageFont.truetype('arial.ttf', 100)\n",
    "    fonteTitulo = ImageFont.truetype('arial.ttf', 216)\n",
    "    #imprime NOME DA FIGURA\n",
    "    if nome == 'ABC 1':\n",
    "        NovoNome = 'Curto-circuito Trifásico ABC - Caso 1'\n",
    "    elif nome == 'ABC 2':\n",
    "        NovoNome = 'Curto-circuito Trifásico ABC - Caso 2'\n",
    "    elif nome == 'AC':\n",
    "        NovoNome = 'Curto-circuito Bifásico AC'\n",
    "    elif nome == 'BC':\n",
    "        NovoNome = 'Curto-circuito Bifásico BC'\n",
    "    elif nome == 'AB':\n",
    "        NovoNome = 'Curto-circuito Bifásico AB'\n",
    "    else:\n",
    "        NovoNome = 'NovoNome'\n",
    "    draw.text((1900,50), NovoNome, font=fonteTitulo, fill=(0,0,0,255))\n",
    "    #imprime Trifasico Real\n",
    "    draw.text((2800,400), 'Vab = '+str(round(i.Vab_Trif, 3)), font=fonte, fill=(0,0,0,255))\n",
    "    draw.text((2800,510), 'Vbc = '+str(round(i.Vbc_Trif, 3)), font=fonte, fill=(0,0,0,255))\n",
    "    draw.text((2800,620), 'Vca = '+str(round(i.Vca_Trif, 3)), font=fonte, fill=(0,0,0,255))\n",
    "    draw.text((2800,1400), 'Ia = '+str(round(i.Ia_Trif, 3)), font=fonte, fill=(0,0,0,255))\n",
    "    draw.text((2800,1510), 'Ib = '+str(round(i.Ib_Trif, 3)), font=fonte, fill=(0,0,0,255))\n",
    "    draw.text((2800,1620), 'Ic = '+str(round(i.Ic_Trif, 3)), font=fonte, fill=(0,0,0,255))\n",
    "    #imprime T2F\n",
    "    draw.text((2800,2700), 'Vab = '+str(round(i.Vab_T2F, 3)), font=fonte, fill=(0,0,0,255))\n",
    "    draw.text((2800,2810), 'Vbc = '+str(round(i.Vbc_T2F, 3)), font=fonte, fill=(0,0,0,255))\n",
    "    draw.text((2800,2920), 'Vca = '+str(round(i.Vca_T2F, 3)), font=fonte, fill=(0,0,0,255))\n",
    "    draw.text((2800,3700), 'Ia = '+str(round(i.Ia_T2F, 3)), font=fonte, fill=(0,0,0,255))\n",
    "    draw.text((2800,3810), 'Ib = '+str(round(i.Ib_T2F, 3)), font=fonte, fill=(0,0,0,255))\n",
    "    draw.text((2800,3920), 'Ic = '+str(round(i.Ic_T2F, 3)), font=fonte, fill=(0,0,0,255))\n",
    "\n",
    "    draw.text((1400,2700), 'Vab = '+str(round(i.Vab_Trif_T2F, 3)), font=fonte, fill=(0,0,0,255))\n",
    "    draw.text((1400,2810), 'Vbc = '+str(round(i.Vbc_Trif_T2F, 3)), font=fonte, fill=(0,0,0,255))\n",
    "    draw.text((1400,2920), 'Vca = '+str(round(i.Vca_Trif_T2F, 3)), font=fonte, fill=(0,0,0,255))\n",
    "    draw.text((1400,3700), 'Ia = '+str(round(i.Ia_Trif_T2F, 3)), font=fonte, fill=(0,0,0,255))\n",
    "    draw.text((1400,3810), 'Ib = '+str(round(i.Ib_Trif_T2F, 3)), font=fonte, fill=(0,0,0,255))\n",
    "    draw.text((1400,3920), 'Ic = '+str(round(i.Ic_Trif_T2F, 3)), font=fonte, fill=(0,0,0,255))\n",
    "    #imprime Trifásico Isolador\n",
    "    draw.text((2800,5050), 'Vab = '+str(round(i.Vab_Trif_Saida, 3)), font=fonte, fill=(0,0,0,255))\n",
    "    draw.text((2800,5160), 'Vbc = '+str(round(i.Vbc_Trif_Saida, 3)), font=fonte, fill=(0,0,0,255))\n",
    "    draw.text((2800,5270), 'Vca = '+str(round(i.Vca_Trif_Saida, 3)), font=fonte, fill=(0,0,0,255))\n",
    "    draw.text((2800,6000), 'Ia = '+str(round(i.Ia_Trif_Saida, 3)), font=fonte, fill=(0,0,0,255))\n",
    "    draw.text((2800,6110), 'Ib = '+str(round(i.Ib_Trif_Saida, 3)), font=fonte, fill=(0,0,0,255))\n",
    "    draw.text((2800,6220), 'Ic = '+str(round(i.Ic_Trif_Saida, 3)), font=fonte, fill=(0,0,0,255))\n",
    "\n",
    "    draw.text((1400,5050), 'Vab = '+str(round(i.Vab_Trif_Ent, 3)), font=fonte, fill=(0,0,0,255))\n",
    "    draw.text((1400,5160), 'Vbc = '+str(round(i.Vbc_Trif_Ent, 3)), font=fonte, fill=(0,0,0,255))\n",
    "    draw.text((1400,5270), 'Vca = '+str(round(i.Vca_Trif_Ent, 3)), font=fonte, fill=(0,0,0,255))\n",
    "    draw.text((1400,6000), 'Ia = '+str(round(i.Ia_Trif_Ent, 3)), font=fonte, fill=(0,0,0,255))\n",
    "    draw.text((1400,6110), 'Ib = '+str(round(i.Ib_Trif_Ent, 3)), font=fonte, fill=(0,0,0,255))\n",
    "    draw.text((1400,6220), 'Ic = '+str(round(i.Ic_Trif_Ent, 3)), font=fonte, fill=(0,0,0,255))\n",
    "    imagem.save(f\".\\Data\\Medida_Franco_\"+nome+\"_F2.png\")"
   ],
   "metadata": {
    "collapsed": false,
    "ExecuteTime": {
     "end_time": "2023-07-26T19:27:23.809874400Z",
     "start_time": "2023-07-26T19:27:13.815610700Z"
    }
   }
  },
  {
   "cell_type": "code",
   "execution_count": 14,
   "outputs": [],
   "source": [
    "for i in Dissertacao_Franco_Meio.itertuples():\n",
    "    nome = str(i.tipoCurto)\n",
    "    imagem = Image.open('CurtosValoresF1_TrifasicoIsolador.png')\n",
    "    draw = ImageDraw.Draw(imagem)\n",
    "    fonte = ImageFont.truetype('arial.ttf', 100)\n",
    "    fonteTitulo = ImageFont.truetype('arial.ttf', 216)\n",
    "    #imprime NOME DA FIGURA\n",
    "    if nome == 'ABC 1':\n",
    "        NovoNome = 'Curto-circuito Trifásico ABC - Caso 1'\n",
    "    elif nome == 'ABC 2':\n",
    "        NovoNome = 'Curto-circuito Trifásico ABC - Caso 2'\n",
    "    elif nome == 'AC':\n",
    "        NovoNome = 'Curto-circuito Bifásico AC'\n",
    "    elif nome == 'BC':\n",
    "        NovoNome = 'Curto-circuito Bifásico BC'\n",
    "    elif nome == 'AB':\n",
    "        NovoNome = 'Curto-circuito Bifásico AB'\n",
    "    else:\n",
    "        NovoNome = 'NovoNome'\n",
    "    draw.text((1900,50), NovoNome, font=fonteTitulo, fill=(0,0,0,255))\n",
    "    #imprime Trifasico Real\n",
    "    draw.text((2400,400), 'Vab = '+str(round(i.Vab_Trif, 3)), font=fonte, fill=(0,0,0,255))\n",
    "    draw.text((2400,510), 'Vbc = '+str(round(i.Vbc_Trif, 3)), font=fonte, fill=(0,0,0,255))\n",
    "    draw.text((2400,620), 'Vca = '+str(round(i.Vca_Trif, 3)), font=fonte, fill=(0,0,0,255))\n",
    "    draw.text((2400,1400), 'Ia = '+str(round(i.Ia_Trif, 3)), font=fonte, fill=(0,0,0,255))\n",
    "    draw.text((2400,1510), 'Ib = '+str(round(i.Ib_Trif, 3)), font=fonte, fill=(0,0,0,255))\n",
    "    draw.text((2400,1620), 'Ic = '+str(round(i.Ic_Trif, 3)), font=fonte, fill=(0,0,0,255))\n",
    "    #imprime T2F\n",
    "    draw.text((2400,2700), 'Vab = '+str(round(i.Vab_T2F, 3)), font=fonte, fill=(0,0,0,255))\n",
    "    draw.text((2400,2810), 'Vbc = '+str(round(i.Vbc_T2F, 3)), font=fonte, fill=(0,0,0,255))\n",
    "    draw.text((2400,2920), 'Vca = '+str(round(i.Vca_T2F, 3)), font=fonte, fill=(0,0,0,255))\n",
    "    draw.text((2400,3700), 'Ia = '+str(round(i.Ia_T2F, 3)), font=fonte, fill=(0,0,0,255))\n",
    "    draw.text((2400,3810), 'Ib = '+str(round(i.Ib_T2F, 3)), font=fonte, fill=(0,0,0,255))\n",
    "    draw.text((2400,3920), 'Ic = '+str(round(i.Ic_T2F, 3)), font=fonte, fill=(0,0,0,255))\n",
    "\n",
    "    draw.text((1400,2700), 'Vab = '+str(round(i.Vab_Trif_T2F, 3)), font=fonte, fill=(0,0,0,255))\n",
    "    draw.text((1400,2810), 'Vbc = '+str(round(i.Vbc_Trif_T2F, 3)), font=fonte, fill=(0,0,0,255))\n",
    "    draw.text((1400,2920), 'Vca = '+str(round(i.Vca_Trif_T2F, 3)), font=fonte, fill=(0,0,0,255))\n",
    "    draw.text((1400,3700), 'Ia = '+str(round(i.Ia_Trif_T2F, 3)), font=fonte, fill=(0,0,0,255))\n",
    "    draw.text((1400,3810), 'Ib = '+str(round(i.Ib_Trif_T2F, 3)), font=fonte, fill=(0,0,0,255))\n",
    "    draw.text((1400,3920), 'Ic = '+str(round(i.Ic_Trif_T2F, 3)), font=fonte, fill=(0,0,0,255))\n",
    "    #imprime Trifásico Isolador\n",
    "    draw.text((2400,5050), 'Vab = '+str(round(i.Vab_Trif_Saida, 3)), font=fonte, fill=(0,0,0,255))\n",
    "    draw.text((2400,5160), 'Vbc = '+str(round(i.Vbc_Trif_Saida, 3)), font=fonte, fill=(0,0,0,255))\n",
    "    draw.text((2400,5270), 'Vca = '+str(round(i.Vca_Trif_Saida, 3)), font=fonte, fill=(0,0,0,255))\n",
    "    draw.text((2400,6000), 'Ia = '+str(round(i.Ia_Trif_Saida, 3)), font=fonte, fill=(0,0,0,255))\n",
    "    draw.text((2400,6110), 'Ib = '+str(round(i.Ib_Trif_Saida, 3)), font=fonte, fill=(0,0,0,255))\n",
    "    draw.text((2400,6220), 'Ic = '+str(round(i.Ic_Trif_Saida, 3)), font=fonte, fill=(0,0,0,255))\n",
    "\n",
    "    draw.text((1400,5050), 'Vab = '+str(round(i.Vab_Trif_Ent, 3)), font=fonte, fill=(0,0,0,255))\n",
    "    draw.text((1400,5160), 'Vbc = '+str(round(i.Vbc_Trif_Ent, 3)), font=fonte, fill=(0,0,0,255))\n",
    "    draw.text((1400,5270), 'Vca = '+str(round(i.Vca_Trif_Ent, 3)), font=fonte, fill=(0,0,0,255))\n",
    "    draw.text((1400,6000), 'Ia = '+str(round(i.Ia_Trif_Ent, 3)), font=fonte, fill=(0,0,0,255))\n",
    "    draw.text((1400,6110), 'Ib = '+str(round(i.Ib_Trif_Ent, 3)), font=fonte, fill=(0,0,0,255))\n",
    "    draw.text((1400,6220), 'Ic = '+str(round(i.Ic_Trif_Ent, 3)), font=fonte, fill=(0,0,0,255))\n",
    "    imagem.save(f\".\\Data\\Medida_Franco_\"+nome+\"_F1.png\")"
   ],
   "metadata": {
    "collapsed": false,
    "ExecuteTime": {
     "end_time": "2023-07-26T19:27:33.464349600Z",
     "start_time": "2023-07-26T19:27:23.859899700Z"
    }
   }
  },
  {
   "cell_type": "code",
   "execution_count": 14,
   "outputs": [],
   "source": [],
   "metadata": {
    "collapsed": false,
    "ExecuteTime": {
     "end_time": "2023-07-26T19:27:33.479349500Z",
     "start_time": "2023-07-26T19:27:33.465349Z"
    }
   }
  }
 ],
 "metadata": {
  "kernelspec": {
   "display_name": "Python 3",
   "language": "python",
   "name": "python3"
  },
  "language_info": {
   "codemirror_mode": {
    "name": "ipython",
    "version": 2
   },
   "file_extension": ".py",
   "mimetype": "text/x-python",
   "name": "python",
   "nbconvert_exporter": "python",
   "pygments_lexer": "ipython2",
   "version": "2.7.6"
  }
 },
 "nbformat": 4,
 "nbformat_minor": 0
}
